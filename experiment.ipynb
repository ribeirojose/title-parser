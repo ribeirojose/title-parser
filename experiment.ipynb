{
 "cells": [
  {
   "cell_type": "code",
   "execution_count": 34,
   "metadata": {},
   "outputs": [],
   "source": [
    "import pandas as pd\n",
    "import re\n",
    "\n",
    "def read_data():\n",
    "    return pd.read_csv(\"data.csv\", sep=\"\\n\")"
   ]
  },
  {
   "cell_type": "code",
   "execution_count": 51,
   "metadata": {},
   "outputs": [
    {
     "output_type": "stream",
     "name": "stdout",
     "text": "Sample from data:\nMemoirs of the Life, Public and Private Adventures of Madame Vestris. George Colman, John Duncombe, 1826.\nPersonal Reminiscences of Henry Irving. Bram Stoker, Macmillan 1906.\nOn the Art of the Theatre. Edward Gordon Craig, Heinemann, 1911.\nHints to Speakers and Players. Rosina Filippi, Edward Arnold, 1911.\nShakespeare in the Theatre. William Poel, Sidgwick and Jackson, 1913.\n"
    }
   ],
   "source": [
    "df = read_data()\n",
    "print(\"Sample from data:\")\n",
    "for i in range(5):\n",
    "    print(df.Name[i])"
   ]
  },
  {
   "cell_type": "markdown",
   "metadata": {},
   "source": [
    "First hypothesis: most row strings follow a \"\\[TITLE\\]. \\[AUTHOR\\], \\[PUBLISHER\\], \\[YEAR\\].\" pattern. "
   ]
  },
  {
   "cell_type": "code",
   "execution_count": 59,
   "metadata": {},
   "outputs": [],
   "source": [
    "def parse_row(string):\n",
    "    pattern = r\"([^.]*)\\.(.*?)\\,(\\ .*?)\\,( \\d*).\"\n",
    "    title, authors, publisher, year= [str_.strip() for str_ in re.match(pattern, string).groups()]\n",
    "    return {'title':title, 'authors':authors, 'publisher':publisher, 'year':year}"
   ]
  },
  {
   "cell_type": "code",
   "execution_count": 108,
   "metadata": {},
   "outputs": [
    {
     "output_type": "stream",
     "name": "stdout",
     "text": "Success rate in parsing: 0.9482120838471023\n"
    }
   ],
   "source": [
    "successful = []\n",
    "failed = []\n",
    "for _, row in df.iterrows():\n",
    "    try:\n",
    "        successful.append(parse_row(row.Name))\n",
    "    except AttributeError:\n",
    "        failed.append(row.Name)\n",
    "print(f\"Success rate in parsing: {len(successful) / df.size}\")"
   ]
  },
  {
   "cell_type": "code",
   "execution_count": 109,
   "metadata": {},
   "outputs": [],
   "source": [
    "successful_df = pd.DataFrame.from_dict(successful)\n",
    "successful_df.to_csv('success.csv')"
   ]
  }
 ],
 "metadata": {
  "language_info": {
   "codemirror_mode": {
    "name": "ipython",
    "version": 3
   },
   "file_extension": ".py",
   "mimetype": "text/x-python",
   "name": "python",
   "nbconvert_exporter": "python",
   "pygments_lexer": "ipython3",
   "version": "3.8.1-final"
  },
  "orig_nbformat": 2,
  "kernelspec": {
   "name": "python38164bitvenvvenv691ceb4b38374edfb6e7c585a4c4a929",
   "display_name": "Python 3.8.1 64-bit ('.venv': venv)"
  }
 },
 "nbformat": 4,
 "nbformat_minor": 2
}